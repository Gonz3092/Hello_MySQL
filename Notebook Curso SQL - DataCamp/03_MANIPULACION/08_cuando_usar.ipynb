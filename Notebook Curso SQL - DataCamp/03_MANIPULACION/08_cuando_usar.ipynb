{
 "cells": [
  {
   "cell_type": "markdown",
   "id": "e01960d1",
   "metadata": {},
   "source": [
    "| Característica | JOIN | Subqueries no Correlacionados | Subqueries Correlacionados | CTE |\n",
    "| :--- | :--- | :--- | :--- | :--- |\n",
    "| **Propósito Principal** | Combinar datos de tablas por una relación. | Filtrar o agregar datos de forma independiente. | Comparaciones fila por fila. | Mejorar la legibilidad y estructurar la lógica. |\n",
    "| **Flujo de Datos** | Combina tablas de forma simultánea. | Interna -> Externa. Se ejecuta 1 vez. | Interna -> Externa. Se re-ejecuta por fila. | Define una tabla virtual que se usa después. |\n",
    "| **Rendimiento** | **Generalmente el más rápido y óptimo.** | Muy bueno, comparable a JOIN en muchos casos. | **Potencialmente el más lento.** | Igual que una subconsulta en FROM, pero más legible. |\n",
    "| **Legibilidad** | Alta para uniones simples. | Buena, divide la lógica. | Baja para el ojo no experto. | **Excelente.** Divide la lógica en pasos lógicos. |\n",
    "| **Sintaxis** | `FROM tabla1 JOIN tabla2 ON ...` | `WHERE columna IN (SELECT ...)` | `WHERE e.salario > (SELECT ... WHERE ... = e.id)` | `WITH nombre_cte AS (...) SELECT ...` |"
   ]
  }
 ],
 "metadata": {
  "language_info": {
   "name": "python"
  }
 },
 "nbformat": 4,
 "nbformat_minor": 5
}
